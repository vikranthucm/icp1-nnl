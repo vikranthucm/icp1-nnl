{
  "nbformat": 4,
  "nbformat_minor": 0,
  "metadata": {
    "colab": {
      "provenance": []
    },
    "kernelspec": {
      "name": "python3",
      "display_name": "Python 3"
    },
    "language_info": {
      "name": "python"
    }
  },
  "cells": [
    {
      "cell_type": "code",
      "execution_count": 1,
      "metadata": {
        "colab": {
          "base_uri": "https://localhost:8080/"
        },
        "id": "e2eqiZGBDhNN",
        "outputId": "accb1b13-4f17-4110-92b9-2e7ba1966d2b"
      },
      "outputs": [
        {
          "output_type": "stream",
          "name": "stdout",
          "text": [
            "Enter your first name vikranth\n",
            "Enter your last name thirumala\n",
            "Your fullname is vikranth thirumala\n",
            "The alternate string is:  vkat hrml\n"
          ]
        }
      ],
      "source": [
        "your_firstname=input(\"Enter your first name \")\n",
        "your_lastname=input(\"Enter your last name \")\n",
        "\n",
        "def fullname(your_firstname,your_lastname):\n",
        "    global your_fullname\n",
        "    your_fullname=your_firstname+\" \"+your_lastname\n",
        "    print(\"Your fullname is \" + your_fullname)\n",
        "fullname(your_firstname,your_lastname)\n",
        "\n",
        "#For displaying the alternate string\n",
        "def alternate_string(your_fullname):\n",
        "    fullname=your_fullname[::2] # for showing the alternate letters\n",
        "    print(\"The alternate string is: \" ,fullname) #printing the alternate string of fullname\n",
        "alternate_string(your_fullname)"
      ]
    },
    {
      "cell_type": "code",
      "source": [
        "def count_word_occurrences(line, word_count):\n",
        "    words = line.split()\n",
        "    for word in words:\n",
        "        word_count[word] = word_count.get(word, 0) + 1\n",
        "\n",
        "def main():\n",
        "    input_file_name = \"input.txt\"\n",
        "    output_file_name = \"output.txt\"\n",
        "\n",
        "    try:\n",
        "        # Read input file\n",
        "        with open(input_file_name, 'r') as file:\n",
        "            lines = file.readlines()\n",
        "\n",
        "        # Count word occurrences\n",
        "        word_count = {}\n",
        "        for line in lines:\n",
        "            count_word_occurrences(line, word_count)\n",
        "\n",
        "        # Prepare summarized output\n",
        "        output_lines = []\n",
        "        for word, count in word_count.items():\n",
        "            output_lines.append(f\"{word}: {count}\")\n",
        "\n",
        "        # Print the output\n",
        "        for output_line in output_lines:\n",
        "            print(output_line)\n",
        "\n",
        "        # Write output to file\n",
        "        with open(output_file_name, 'w') as output_file:\n",
        "            output_file.write('\\n'.join(output_lines))\n",
        "\n",
        "        print(f\"\\nWord count results saved in {output_file_name}\")\n",
        "\n",
        "    except FileNotFoundError:\n",
        "        print(f\"Error: File '{input_file_name}' not found.\")\n",
        "\n",
        "if __name__ == \"__main__\":\n",
        "    main()\n"
      ],
      "metadata": {
        "colab": {
          "base_uri": "https://localhost:8080/"
        },
        "id": "G0SwDXEpMNlW",
        "outputId": "edc0dd83-e874-426c-a507-7ff589841173"
      },
      "execution_count": 5,
      "outputs": [
        {
          "output_type": "stream",
          "name": "stdout",
          "text": [
            "Python: 1\n",
            "Course: 2\n",
            "Deep: 1\n",
            "Learning: 1\n",
            "\n",
            "Word count results saved in output.txt\n"
          ]
        }
      ]
    },
    {
      "cell_type": "code",
      "source": [
        "def inches_to_centimeters_nested(heights_inches):\n",
        "    heights_centimeters = []\n",
        "    for inch in heights_inches:\n",
        "        centimeter = inch * 2.54\n",
        "        heights_centimeters.append(round(centimeter, 2))\n",
        "    return heights_centimeters\n",
        "\n",
        "def inches_to_centimeters_list_comprehension(heights_inches):\n",
        "    return [round(inch * 2.54, 2) for inch in heights_inches]\n",
        "\n",
        "def main():\n",
        "    # Get input from the user\n",
        "    try:\n",
        "        num_customers = int(input(\"Enter the number of customers: \"))\n",
        "        heights_inches = []\n",
        "        for i in range(num_customers):\n",
        "            height = float(input(f\"Enter height (in inches) for customer {i + 1}: \"))\n",
        "            heights_inches.append(height)\n",
        "\n",
        "        # Convert using nested interactive loop\n",
        "        heights_centimeters_nested = inches_to_centimeters_nested(heights_inches)\n",
        "\n",
        "        # Convert using list comprehension\n",
        "        heights_centimeters_list_comp = inches_to_centimeters_list_comprehension(heights_inches)\n",
        "\n",
        "        # Print the results\n",
        "        print(\"\\nHeights (in inches):\", heights_inches)\n",
        "        print(\"Heights (in centimeters) using nested loop:\", heights_centimeters_nested)\n",
        "        print(\"Heights (in centimeters) using list comprehension:\", heights_centimeters_list_comp)\n",
        "\n",
        "    except ValueError:\n",
        "        print(\"Error: Please enter valid numerical values for heights.\")\n",
        "\n",
        "if __name__ == \"__main__\":\n",
        "    main()\n",
        "\n"
      ],
      "metadata": {
        "colab": {
          "base_uri": "https://localhost:8080/"
        },
        "id": "0HY9HEwhP4l7",
        "outputId": "9284b508-f318-48f6-fdbd-3259e9250980"
      },
      "execution_count": 10,
      "outputs": [
        {
          "output_type": "stream",
          "name": "stdout",
          "text": [
            "Enter the number of customers: 4\n",
            "Enter height (in inches) for customer 1: 234\n",
            "Enter height (in inches) for customer 2: 123\n",
            "Enter height (in inches) for customer 3: 456\n",
            "Enter height (in inches) for customer 4: 234\n",
            "\n",
            "Heights (in inches): [234.0, 123.0, 456.0, 234.0]\n",
            "Heights (in centimeters) using nested loop: [594.36, 312.42, 1158.24, 594.36]\n",
            "Heights (in centimeters) using list comprehension: [594.36, 312.42, 1158.24, 594.36]\n"
          ]
        }
      ]
    }
  ]
}